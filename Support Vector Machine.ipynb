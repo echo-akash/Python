{
 "cells": [
  {
   "cell_type": "code",
   "execution_count": 12,
   "metadata": {},
   "outputs": [],
   "source": [
    "from sklearn.datasets import load_iris\n",
    "from sklearn import svm\n",
    "from sklearn.model_selection import train_test_split\n",
    "import doctest"
   ]
  },
  {
   "cell_type": "code",
   "execution_count": 13,
   "metadata": {},
   "outputs": [],
   "source": [
    "#different types of SVM \n",
    "\n",
    "def NuSVC(train_x, train_y):\n",
    "    svc_NuSVC = svm.NuSVC()\n",
    "    svc_NuSVC.fit(train_x, train_y)\n",
    "    return svc_NuSVC\n",
    "\n",
    "def Linearsvc(train_x, train_y):\n",
    "    svc_linear = svm.LinearSVC()\n",
    "    svc_linear.fit(train_x, train_y)\n",
    "    return svc_linear\n",
    "\n",
    "def SVC(train_x, train_y):\n",
    "    SVC = svm.SVC(gamma=\"auto\")\n",
    "    SVC.fit(train_x, train_y)\n",
    "    return SVC"
   ]
  },
  {
   "cell_type": "code",
   "execution_count": 14,
   "metadata": {},
   "outputs": [],
   "source": [
    "def test(X_new):\n",
    "    iris = load_iris()\n",
    "    train_x, test_x, train_y, test_y = train_test_split(iris[\"data\"], iris[\"target\"], random_state=4)\n",
    "    current_model = Linearsvc(train_x, train_y)\n",
    "    prediction = current_model.predict([X_new])\n",
    "    return iris[\"target_names\"][prediction][0]"
   ]
  },
  {
   "cell_type": "code",
   "execution_count": 15,
   "metadata": {},
   "outputs": [],
   "source": [
    "if __name__ == \"__main__\":\n",
    "    doctest.testmod()"
   ]
  },
  {
   "cell_type": "code",
   "execution_count": null,
   "metadata": {},
   "outputs": [],
   "source": []
  }
 ],
 "metadata": {
  "kernelspec": {
   "display_name": "Python 3",
   "language": "python",
   "name": "python3"
  },
  "language_info": {
   "codemirror_mode": {
    "name": "ipython",
    "version": 3
   },
   "file_extension": ".py",
   "mimetype": "text/x-python",
   "name": "python",
   "nbconvert_exporter": "python",
   "pygments_lexer": "ipython3",
   "version": "3.6.8"
  }
 },
 "nbformat": 4,
 "nbformat_minor": 2
}
