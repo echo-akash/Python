{
 "cells": [
  {
   "cell_type": "code",
   "execution_count": 18,
   "metadata": {},
   "outputs": [],
   "source": [
    "# Dictionary representing the morse code chart\n",
    "MORSE_CODE_DICT = {\n",
    "    \"A\": \".-\",\n",
    "    \"B\": \"-...\",\n",
    "    \"C\": \"-.-.\",\n",
    "    \"D\": \"-..\",\n",
    "    \"E\": \".\",\n",
    "    \"F\": \"..-.\",\n",
    "    \"G\": \"--.\",\n",
    "    \"H\": \"....\",\n",
    "    \"I\": \"..\",\n",
    "    \"J\": \".---\",\n",
    "    \"K\": \"-.-\",\n",
    "    \"L\": \".-..\",\n",
    "    \"M\": \"--\",\n",
    "    \"N\": \"-.\",\n",
    "    \"O\": \"---\",\n",
    "    \"P\": \".--.\",\n",
    "    \"Q\": \"--.-\",\n",
    "    \"R\": \".-.\",\n",
    "    \"S\": \"...\",\n",
    "    \"T\": \"-\",\n",
    "    \"U\": \"..-\",\n",
    "    \"V\": \"...-\",\n",
    "    \"W\": \".--\",\n",
    "    \"X\": \"-..-\",\n",
    "    \"Y\": \"-.--\",\n",
    "    \"Z\": \"--..\",\n",
    "    \"1\": \".----\",\n",
    "    \"2\": \"..---\",\n",
    "    \"3\": \"...--\",\n",
    "    \"4\": \"....-\",\n",
    "    \"5\": \".....\",\n",
    "    \"6\": \"-....\",\n",
    "    \"7\": \"--...\",\n",
    "    \"8\": \"---..\",\n",
    "    \"9\": \"----.\",\n",
    "    \"0\": \"-----\",\n",
    "    \", \": \"--..--\",\n",
    "    \".\": \".-.-.-\",\n",
    "    \"?\": \"..--..\",\n",
    "    \"/\": \"-..-.\",\n",
    "    \"-\": \"-....-\",\n",
    "    \"(\": \"-.--.\",\n",
    "    \")\": \"-.--.-\",\n",
    "}"
   ]
  },
  {
   "cell_type": "code",
   "execution_count": 19,
   "metadata": {},
   "outputs": [],
   "source": [
    "def encrypt(message):\n",
    "    cipher = \"\"\n",
    "    for letter in message:\n",
    "        if letter != \" \":\n",
    "            cipher += MORSE_CODE_DICT[letter] + \" \"\n",
    "        else:\n",
    "            cipher += \" \"\n",
    "    return cipher\n"
   ]
  },
  {
   "cell_type": "code",
   "execution_count": 28,
   "metadata": {},
   "outputs": [],
   "source": [
    "def decrypt(message):\n",
    "    message += \" \"\n",
    "    decipher = \"\"\n",
    "    citext = \"\"\n",
    "    for letter in message:\n",
    "        if letter != \" \":\n",
    "            i = 0\n",
    "            citext += letter\n",
    "        else:\n",
    "            i += 1\n",
    "            if i == 2:\n",
    "                decipher += \" \"\n",
    "            else:\n",
    "                decipher += list(MORSE_CODE_DICT.keys())[list(MORSE_CODE_DICT.values()).index(citext)]\n",
    "                citext = \"\"\n",
    "    return decipher"
   ]
  },
  {
   "cell_type": "code",
   "execution_count": 25,
   "metadata": {},
   "outputs": [],
   "source": [
    "def main():\n",
    "    message = input(\"Enter message: \").strip()\n",
    "    option = input(\"Encrypt or Decrypt? E/D:\").strip()[0].lower()\n",
    "    try:\n",
    "        func = {\"e\": encrypt, \"d\": decrypt}[option]\n",
    "    except KeyError:\n",
    "        raise KeyError(\"invalid input option\")\n",
    "    result = func(message.upper())\n",
    "    print(result)"
   ]
  },
  {
   "cell_type": "code",
   "execution_count": 27,
   "metadata": {},
   "outputs": [
    {
     "name": "stdout",
     "output_type": "stream",
     "text": [
      "Enter message: .... . .-.. .-.. ---\n",
      "Encrypt or Decrypt? E/D:d\n",
      "HELLO\n"
     ]
    }
   ],
   "source": [
    "if __name__==\"__main__\":\n",
    "    main()"
   ]
  },
  {
   "cell_type": "code",
   "execution_count": null,
   "metadata": {},
   "outputs": [],
   "source": []
  }
 ],
 "metadata": {
  "kernelspec": {
   "display_name": "Python 3",
   "language": "python",
   "name": "python3"
  },
  "language_info": {
   "codemirror_mode": {
    "name": "ipython",
    "version": 3
   },
   "file_extension": ".py",
   "mimetype": "text/x-python",
   "name": "python",
   "nbconvert_exporter": "python",
   "pygments_lexer": "ipython3",
   "version": "3.6.8"
  }
 },
 "nbformat": 4,
 "nbformat_minor": 2
}
