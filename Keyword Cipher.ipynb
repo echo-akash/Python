{
 "cells": [
  {
   "cell_type": "code",
   "execution_count": 10,
   "metadata": {},
   "outputs": [],
   "source": [
    "def remove_duplicates(key: str) -> str:\n",
    "    key_no_dups = \"\"\n",
    "    for ch in key:\n",
    "        if ch == \" \" or ch not in key_no_dups and ch.isalpha():\n",
    "            key_no_dups += ch\n",
    "    return key_no_dups"
   ]
  },
  {
   "cell_type": "code",
   "execution_count": 11,
   "metadata": {},
   "outputs": [],
   "source": [
    "def create_cipher_map(key: str) -> dict:\n",
    "    # Create alphabet list\n",
    "    alphabet = [chr(i + 65) for i in range(26)]\n",
    "    # Remove duplicate characters from key\n",
    "    key = remove_duplicates(key.upper())\n",
    "    offset = len(key)\n",
    "    # First fill cipher with key characters\n",
    "    cipher_alphabet = {alphabet[i]: char for i, char in enumerate(key)}\n",
    "    # Then map remaining characters in alphabet to\n",
    "    # the alphabet from the beginning\n",
    "    for i in range(len(cipher_alphabet), 26):\n",
    "        char = alphabet[i - offset]\n",
    "        # Ensure we are not mapping letters to letters previously mapped\n",
    "        while char in key:\n",
    "            offset -= 1\n",
    "            char = alphabet[i - offset]\n",
    "        cipher_alphabet[alphabet[i]] = char\n",
    "    return cipher_alphabet"
   ]
  },
  {
   "cell_type": "code",
   "execution_count": 12,
   "metadata": {},
   "outputs": [],
   "source": [
    "def encipher(message: str, cipher_map: dict) -> str:\n",
    "    return \"\".join(cipher_map.get(ch, ch) for ch in message.upper())"
   ]
  },
  {
   "cell_type": "code",
   "execution_count": 13,
   "metadata": {},
   "outputs": [],
   "source": [
    "def decipher(message: str, cipher_map: dict) -> str:\n",
    "    # Reverse our cipher mappings\n",
    "    rev_cipher_map = {v: k for k, v in cipher_map.items()}\n",
    "    return \"\".join(rev_cipher_map.get(ch, ch) for ch in message.upper())"
   ]
  },
  {
   "cell_type": "code",
   "execution_count": 14,
   "metadata": {},
   "outputs": [],
   "source": [
    "def main():\n",
    "    message = input(\"Enter message to encode or decode: \").strip()\n",
    "    key = input(\"Enter keyword: \").strip()\n",
    "    option = input(\"Encipher or decipher? E/D:\").strip()[0].lower()\n",
    "    try:\n",
    "        func = {\"e\": encipher, \"d\": decipher}[option]\n",
    "    except KeyError:\n",
    "        raise KeyError(\"invalid input option\")\n",
    "    cipher_map = create_cipher_map(key)\n",
    "    print(func(message, cipher_map))"
   ]
  },
  {
   "cell_type": "code",
   "execution_count": 17,
   "metadata": {},
   "outputs": [
    {
     "name": "stdout",
     "output_type": "stream",
     "text": [
      "Enter message to encode or decode: hello\n",
      "Enter keyword: world\n",
      "Encipher or decipher? E/D:e\n",
      "CDHHK\n"
     ]
    }
   ],
   "source": [
    "if __name__ == \"__main__\":\n",
    "    main()"
   ]
  },
  {
   "cell_type": "code",
   "execution_count": null,
   "metadata": {},
   "outputs": [],
   "source": []
  }
 ],
 "metadata": {
  "kernelspec": {
   "display_name": "Python 3",
   "language": "python",
   "name": "python3"
  },
  "language_info": {
   "codemirror_mode": {
    "name": "ipython",
    "version": 3
   },
   "file_extension": ".py",
   "mimetype": "text/x-python",
   "name": "python",
   "nbconvert_exporter": "python",
   "pygments_lexer": "ipython3",
   "version": "3.6.8"
  }
 },
 "nbformat": 4,
 "nbformat_minor": 2
}
