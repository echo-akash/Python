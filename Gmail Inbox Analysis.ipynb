{
 "cells": [
  {
   "cell_type": "raw",
   "metadata": {},
   "source": [
    "# Visit https://accounts.google.com/ServiceLogin?service=backup to download your gmail archive as a .mbox file"
   ]
  },
  {
   "cell_type": "code",
   "execution_count": 24,
   "metadata": {},
   "outputs": [],
   "source": [
    "import mailbox, pandas as pd, numpy as np \n",
    "import matplotlib.pyplot as plt, matplotlib.font_manager as fm\n",
    "from dateutil.parser import parse as parse_datetime\n",
    "%matplotlib inline"
   ]
  },
  {
   "cell_type": "code",
   "execution_count": 25,
   "metadata": {},
   "outputs": [],
   "source": [
    "# load the mbox file\n",
    "def load_mbox_file(path=\"\"):\n",
    "    path = path\n",
    "    mbox = mailbox.mbox(path)\n",
    "    print('There are {:,} messages in the archive.'.format(len(mbox)))"
   ]
  },
  {
   "cell_type": "code",
   "execution_count": 26,
   "metadata": {},
   "outputs": [],
   "source": [
    "# get a list of the dates/times of all the messages in the mbox\n",
    "all_dates = []\n",
    "all_times = []\n",
    "def get_list_of_dates_time():\n",
    "    for message in mbox:  \n",
    "        try:\n",
    "            # it's an email and not a chat if there's no label, or if there's a label but it's not 'chat'\n",
    "            if not 'X-Gmail-Labels' in message or ('X-Gmail-Labels' in message and not 'Chat' in message['X-Gmail-Labels']):\n",
    "                date, time = str(parse_datetime(message['Date'])).split(' ')\n",
    "                all_dates.append(date)\n",
    "                all_times.append(time)\n",
    "        except (AttributeError, ValueError):\n",
    "            # hangouts messages have no Date key, so handle exception by skipping them\n",
    "            pass\n",
    "    print('There are {:,} messages with dates.'.format(len(all_dates)))"
   ]
  },
  {
   "cell_type": "raw",
   "metadata": {},
   "source": [
    "Plot Gmail Traffic by Date"
   ]
  },
  {
   "cell_type": "code",
   "execution_count": 27,
   "metadata": {},
   "outputs": [],
   "source": [
    "# get the count per date\n",
    "def get_count():\n",
    "    date_counts = pd.Series(all_dates).value_counts().sort_index()\n",
    "    print('There are {:,} dates with messages.'.format(len(date_counts)))\n",
    "    date_counts.head()"
   ]
  },
  {
   "cell_type": "code",
   "execution_count": 28,
   "metadata": {},
   "outputs": [],
   "source": [
    "# not every date necessarily has a message, so fill in missing dates in the range with zeros\n",
    "def fill_missing_dates():\n",
    "    date_range = pd.date_range(start=min(all_dates), end=max(all_dates), freq='D')\n",
    "    index = date_range.map(lambda x: str(x.date()))\n",
    "    date_counts = date_counts.reindex(index, fill_value=0)\n",
    "\n",
    "    print('There are {:,} dates total in the range, with or without messages.'.format(len(date_counts)))\n",
    "    date_counts.head()"
   ]
  },
  {
   "cell_type": "code",
   "execution_count": 29,
   "metadata": {},
   "outputs": [],
   "source": [
    "# create a series of labels for the plot: each new year's day\n",
    "def xlabels():\n",
    "    xlabels = pd.Series([label if '01-01' in label else None for label in date_counts.index])\n",
    "    xlabels = xlabels[pd.notnull(xlabels)]\n",
    "    xlabels.head()"
   ]
  },
  {
   "cell_type": "code",
   "execution_count": 30,
   "metadata": {},
   "outputs": [],
   "source": [
    "def plot_graph_day():\n",
    "    # plot the counts per day\n",
    "    fig = plt.figure(figsize=[15, 5])\n",
    "    ax = date_counts.plot(kind='line', linewidth=1, alpha=0.5, color='m')\n",
    "\n",
    "    ax.set_ylim(bottom=0)\n",
    "    ax.grid(True, linestyle='--')\n",
    "    ax.set_xticks(xlabels.index)\n",
    "    ax.set_xticklabels(xlabels, rotation=35, rotation_mode='anchor', ha='right', fontproperties=ticks_font)\n",
    "    ax.set_ylabel('Number of emails', fontproperties=label_font)\n",
    "    ax.set_title('Gmail traffic per day', fontproperties=title_font)\n",
    "\n",
    "    fig.tight_layout()\n",
    "    fig.savefig('images/gmail-traffic-day.png', dpi=96)\n",
    "    plt.show()"
   ]
  },
  {
   "cell_type": "raw",
   "metadata": {},
   "source": [
    "Plot Gmail by Month"
   ]
  },
  {
   "cell_type": "code",
   "execution_count": 31,
   "metadata": {},
   "outputs": [],
   "source": [
    "# get the count per month\n",
    "def count_per_month():\n",
    "    all_months = [x[:-3] for x in all_dates]\n",
    "    month_counts = pd.Series(all_months).value_counts().sort_index()"
   ]
  },
  {
   "cell_type": "code",
   "execution_count": 32,
   "metadata": {},
   "outputs": [],
   "source": [
    "# not every month necessarily has a message, so fill in missing months in the range with zeros\n",
    "def fill_missing_month():\n",
    "    date_range = pd.date_range(start=min(all_dates), end=max(all_dates), freq='D')\n",
    "    months_range = date_range.map(lambda x: str(x.date())[:-3])\n",
    "    index = np.unique(months_range)\n",
    "    month_counts = month_counts.reindex(index, fill_value=0)"
   ]
  },
  {
   "cell_type": "code",
   "execution_count": 33,
   "metadata": {},
   "outputs": [],
   "source": [
    "# create a series of labels for the plot: each january\n",
    "def xlabels_month():\n",
    "    xlabels = pd.Series([label if '-01' in label else None for label in month_counts.index])\n",
    "    xlabels = xlabels[pd.notnull(xlabels)]\n",
    "    xlabels.head()"
   ]
  },
  {
   "cell_type": "code",
   "execution_count": 34,
   "metadata": {},
   "outputs": [],
   "source": [
    "# plot the counts per month\n",
    "def plot_graph_month():\n",
    "    fig = plt.figure(figsize=[10, 5])\n",
    "    ax = month_counts.plot(kind='line', linewidth=3, alpha=0.5, color='m', marker='o', markeredgecolor='m')\n",
    "\n",
    "    ax.set_ylim(bottom=0)\n",
    "    ax.grid(True, linestyle='--')\n",
    "    ax.set_xticks(xlabels.index)\n",
    "    ax.set_xticklabels(xlabels, rotation=35, rotation_mode='anchor', ha='right', fontproperties=ticks_font)\n",
    "    ax.set_ylabel('Number of emails', fontproperties=label_font)\n",
    "    ax.set_title('Gmail traffic per month', fontproperties=title_font)\n",
    "\n",
    "    fig.tight_layout()\n",
    "    fig.savefig('images/gmail-traffic-month.png', dpi=96)\n",
    "    plt.show()"
   ]
  },
  {
   "cell_type": "raw",
   "metadata": {},
   "source": [
    "Plot the Gmail traffic by the day of the week"
   ]
  },
  {
   "cell_type": "code",
   "execution_count": 35,
   "metadata": {},
   "outputs": [],
   "source": [
    "# get the count per day of the week\n",
    "def count_per_weekday():\n",
    "    day_counts = pd.DataFrame()\n",
    "    day_counts['count'] = date_counts\n",
    "    day_counts['day_of_week'] = date_counts.index.map(lambda x: parse_datetime(x).weekday())\n",
    "    mean_day_counts = day_counts.groupby('day_of_week')['count'].mean()\n",
    "    xlabels = ['Monday', 'Tuesday', 'Wednesday', 'Thursday', 'Friday', 'Saturday', 'Sunday']"
   ]
  },
  {
   "cell_type": "code",
   "execution_count": 36,
   "metadata": {},
   "outputs": [],
   "source": [
    "def plot_graph_weekday():\n",
    "    fig = plt.figure(figsize=[7, 5])\n",
    "    ax = mean_day_counts.plot(kind='bar', width=0.6, alpha=0.5, color='#003399', edgecolor='#333333', zorder=2)\n",
    "\n",
    "    ax.yaxis.grid(True, linestyle='--')\n",
    "    ax.set_xticklabels(xlabels, rotation=35, rotation_mode='anchor', ha='right', fontproperties=ticks_font)\n",
    "    for label in ax.get_yticklabels():\n",
    "        label.set_fontproperties(ticks_font)\n",
    "\n",
    "    ax.set_title('Gmail traffic by day of the week', fontproperties=title_font)\n",
    "    ax.set_xlabel('')\n",
    "    ax.set_ylabel('Mean number of emails', fontproperties=label_font)\n",
    "\n",
    "    fig.tight_layout()\n",
    "    fig.savefig('images/gmail-traffic-day-week.png', dpi=96)\n",
    "    plt.show()"
   ]
  },
  {
   "cell_type": "raw",
   "metadata": {},
   "source": [
    "Plot the Gmail traffic by the hour of the day"
   ]
  },
  {
   "cell_type": "code",
   "execution_count": 37,
   "metadata": {},
   "outputs": [],
   "source": [
    "# get the count per hour of the day\n",
    "def count_per_dayhour():\n",
    "    times = pd.Series(all_times).map(lambda x: '{:02}:00'.format(parse_datetime(x).hour))\n",
    "    time_counts = times.value_counts().sort_index()\n",
    "    time_counts.head()"
   ]
  },
  {
   "cell_type": "code",
   "execution_count": 38,
   "metadata": {},
   "outputs": [],
   "source": [
    "def plot_graph_dayhour():\n",
    "    fig = plt.figure(figsize=[10, 5])\n",
    "    ax = time_counts.plot(kind='bar', width=0.8, alpha=0.5, color='#003399', edgecolor='#333333', zorder=2)\n",
    "\n",
    "    ax.yaxis.grid(True, linestyle='--')\n",
    "    ax.set_xticklabels(time_counts.index, rotation=45, rotation_mode='anchor', ha='right', fontproperties=ticks_font)\n",
    "    for label in ax.get_yticklabels():\n",
    "        label.set_fontproperties(ticks_font)\n",
    "\n",
    "    ax.set_title('Gmail traffic by hour of the day', fontproperties=title_font)\n",
    "    ax.set_ylabel('Number of emails', fontproperties=label_font)\n",
    "\n",
    "    fig.tight_layout()\n",
    "    fig.savefig('images/gmail-traffic-hour.png', dpi=96)\n",
    "    plt.show()"
   ]
  },
  {
   "cell_type": "raw",
   "metadata": {},
   "source": [
    "Plot the Gmail traffic by the minute of the day"
   ]
  },
  {
   "cell_type": "code",
   "execution_count": 39,
   "metadata": {},
   "outputs": [],
   "source": [
    "# get the count per minute of the day, as hh:mm\n",
    "def count_per_dayminute():\n",
    "    minutes = pd.Series(all_times).map(lambda x: '{:02}:{:02}'.format(parse_datetime(x).hour, parse_datetime(x).minute))\n",
    "    minute_counts = minutes.value_counts().sort_index()"
   ]
  },
  {
   "cell_type": "code",
   "execution_count": 40,
   "metadata": {},
   "outputs": [],
   "source": [
    "# not every minute necessarily has a message, so fill in missing times with zeros\n",
    "def fill_missing_time():\n",
    "    time_range = pd.date_range(start='0:00', end='23:59', freq='1min')\n",
    "    index = time_range.map(lambda x: '{:02}:{:02}'.format(x.hour, x.minute))\n",
    "    minute_counts = minute_counts.reindex(index, fill_value=0)"
   ]
  },
  {
   "cell_type": "code",
   "execution_count": 41,
   "metadata": {},
   "outputs": [],
   "source": [
    "# create a series of labels for the plot: each new hour\n",
    "def xlabel_minute():\n",
    "    xlabels = pd.Series([label if ':00' in label else None for label in minute_counts.index])\n",
    "    xlabels = xlabels[pd.notnull(xlabels)]"
   ]
  },
  {
   "cell_type": "code",
   "execution_count": 42,
   "metadata": {},
   "outputs": [],
   "source": [
    "# plot the counts per minute\n",
    "def plot_graph_minute():\n",
    "    fig = plt.figure(figsize=[15, 5])\n",
    "    ax = minute_counts.plot(kind='line', linewidth=0.7, alpha=0.7, color='m')\n",
    "\n",
    "    ax.set_ylim(bottom=0)\n",
    "    ax.grid(True, linestyle='--')\n",
    "    ax.set_xticks(xlabels.index)\n",
    "    ax.set_xticklabels(xlabels, rotation=45, rotation_mode='anchor', ha='right', fontproperties=ticks_font)\n",
    "    ax.set_ylabel('Number of emails', fontproperties=label_font)\n",
    "    ax.set_title('Gmail traffic by minute of the day', fontproperties=title_font)\n",
    "\n",
    "    fig.tight_layout()\n",
    "    fig.savefig('images/gmail-traffic-minute.png', dpi=96)\n",
    "    plt.show()"
   ]
  }
 ],
 "metadata": {
  "kernelspec": {
   "display_name": "Python 3",
   "language": "python",
   "name": "python3"
  },
  "language_info": {
   "codemirror_mode": {
    "name": "ipython",
    "version": 3
   },
   "file_extension": ".py",
   "mimetype": "text/x-python",
   "name": "python",
   "nbconvert_exporter": "python",
   "pygments_lexer": "ipython3",
   "version": "3.6.8"
  }
 },
 "nbformat": 4,
 "nbformat_minor": 2
}
