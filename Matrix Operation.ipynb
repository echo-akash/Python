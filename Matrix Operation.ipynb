{
 "cells": [
  {
   "cell_type": "code",
   "execution_count": 29,
   "metadata": {},
   "outputs": [],
   "source": [
    "def add(matrix_a, matrix_b):\n",
    "    if _check_not_integer(matrix_a) and _check_not_integer(matrix_b):\n",
    "        rows, cols = _verify_matrix_sizes(matrix_a, matrix_b)\n",
    "        matrix_c = []\n",
    "        for i in range(rows[0]):\n",
    "            list_1 = []\n",
    "            for j in range(cols[0]):\n",
    "                val = matrix_a[i][j] + matrix_b[i][j]\n",
    "                list_1.append(val)\n",
    "            matrix_c.append(list_1)\n",
    "        return matrix_c"
   ]
  },
  {
   "cell_type": "code",
   "execution_count": 30,
   "metadata": {},
   "outputs": [],
   "source": [
    "def subtract(matrix_a, matrix_b):\n",
    "    if _check_not_integer(matrix_a) and _check_not_integer(matrix_b):\n",
    "        rows, cols = _verify_matrix_sizes(matrix_a, matrix_b)\n",
    "        matrix_c = []\n",
    "        for i in range(rows[0]):\n",
    "            list_1 = []\n",
    "            for j in range(cols[0]):\n",
    "                val = matrix_a[i][j] - matrix_b[i][j]\n",
    "                list_1.append(val)\n",
    "            matrix_c.append(list_1)\n",
    "        return matrix_c"
   ]
  },
  {
   "cell_type": "code",
   "execution_count": 31,
   "metadata": {},
   "outputs": [],
   "source": [
    "def scalar_multiply(matrix, n):\n",
    "    return [[x * n for x in row] for row in matrix]"
   ]
  },
  {
   "cell_type": "code",
   "execution_count": 32,
   "metadata": {},
   "outputs": [],
   "source": [
    "def multiply(matrix_a, matrix_b):\n",
    "    if _check_not_integer(matrix_a) and _check_not_integer(matrix_b):\n",
    "        matrix_c = []\n",
    "        rows, cols = _verify_matrix_sizes(matrix_a, matrix_b)\n",
    "\n",
    "        if cols[0] != rows[1]:\n",
    "            raise ValueError(\n",
    "                f\"Cannot multiply matrix of dimensions ({rows[0]},{cols[0]}) \"\n",
    "                f\"and ({rows[1]},{cols[1]})\"\n",
    "            )\n",
    "        for i in range(rows[0]):\n",
    "            list_1 = []\n",
    "            for j in range(cols[1]):\n",
    "                val = 0\n",
    "                for k in range(cols[1]):\n",
    "                    val = val + matrix_a[i][k] * matrix_b[k][j]\n",
    "                list_1.append(val)\n",
    "            matrix_c.append(list_1)\n",
    "        return matrix_c"
   ]
  },
  {
   "cell_type": "code",
   "execution_count": 33,
   "metadata": {},
   "outputs": [],
   "source": [
    "def identity(n):\n",
    "    n = int(n)\n",
    "    return [[int(row == column) for column in range(n)] for row in range(n)]\n"
   ]
  },
  {
   "cell_type": "code",
   "execution_count": 34,
   "metadata": {},
   "outputs": [],
   "source": [
    "def transpose(matrix, return_map=True):\n",
    "    if _check_not_integer(matrix):\n",
    "        if return_map:\n",
    "            return map(list, zip(*matrix))\n",
    "        else:\n",
    "            return [[row[i] for row in matrix] for i in range(len(matrix[0]))]"
   ]
  },
  {
   "cell_type": "code",
   "execution_count": 35,
   "metadata": {},
   "outputs": [],
   "source": [
    "def minor(matrix, row, column):\n",
    "    minor = matrix[:row] + matrix[row + 1 :]\n",
    "    minor = [row[:column] + row[column + 1 :] for row in minor]\n",
    "    return minor"
   ]
  },
  {
   "cell_type": "code",
   "execution_count": 36,
   "metadata": {},
   "outputs": [],
   "source": [
    "def determinant(matrix):\n",
    "    if len(matrix) == 1:\n",
    "        return matrix[0][0]\n",
    "\n",
    "    res = 0\n",
    "    for x in range(len(matrix)):\n",
    "        res += matrix[0][x] * determinant(minor(matrix, 0, x)) * (-1) ** x\n",
    "    return "
   ]
  },
  {
   "cell_type": "code",
   "execution_count": 37,
   "metadata": {},
   "outputs": [],
   "source": [
    "def inverse(matrix):\n",
    "    det = determinant(matrix)\n",
    "    if det == 0:\n",
    "        return None\n",
    "\n",
    "    matrix_minor = [[] for _ in range(len(matrix))]\n",
    "    for i in range(len(matrix)):\n",
    "        for j in range(len(matrix)):\n",
    "            matrix_minor[i].append(determinant(minor(matrix, i, j)))\n",
    "\n",
    "    cofactors = [\n",
    "        [x * (-1) ** (row + col) for col, x in enumerate(matrix_minor[row])]\n",
    "        for row in range(len(matrix))\n",
    "    ]\n",
    "    adjugate = transpose(cofactors)\n",
    "    return scalar_multiply(adjugate, 1 / det)"
   ]
  },
  {
   "cell_type": "code",
   "execution_count": 38,
   "metadata": {},
   "outputs": [],
   "source": [
    "def _check_not_integer(matrix):\n",
    "    try:\n",
    "        rows = len(matrix)\n",
    "        cols = len(matrix[0])\n",
    "        return True\n",
    "    except TypeError:\n",
    "        raise TypeError(\"Cannot input an integer value, it must be a matrix\")"
   ]
  },
  {
   "cell_type": "code",
   "execution_count": 39,
   "metadata": {},
   "outputs": [],
   "source": [
    "def _shape(matrix):\n",
    "    return list((len(matrix), len(matrix[0])))"
   ]
  },
  {
   "cell_type": "code",
   "execution_count": 40,
   "metadata": {},
   "outputs": [],
   "source": [
    "def _verify_matrix_sizes(matrix_a, matrix_b):\n",
    "    shape = _shape(matrix_a)\n",
    "    shape += _shape(matrix_b)\n",
    "    if shape[0] != shape[2] or shape[1] != shape[3]:\n",
    "        raise ValueError(\n",
    "            f\"operands could not be broadcast together with shape \"\n",
    "            f\"({shape[0], shape[1]}), ({shape[2], shape[3]})\"\n",
    "        )\n",
    "    return [shape[0], shape[2]], [shape[1], shape[3]]"
   ]
  },
  {
   "cell_type": "code",
   "execution_count": 53,
   "metadata": {},
   "outputs": [],
   "source": [
    "def main():\n",
    "    matrix_a = [[2, 10], [3, 9]]\n",
    "    matrix_b = [[13, 4], [7, 4]]\n",
    "    matrix_c = [[1, 12, 12, 14], [21, 21, 23, 24], [41, 31, 33, 9], [41, 41, 11, 11]]\n",
    "    matrix_d = [[3, 10, 2], [2, 0, -2], [0, 1, 1]]\n",
    "    print(\n",
    "        \"Add Operation, %s + %s = %s \\n\"\n",
    "        % (matrix_a, matrix_b, (add(matrix_a, matrix_b)))\n",
    "    )\n",
    "    print(\n",
    "        \"Multiply Operation, %s * %s = %s \\n\"\n",
    "        % (matrix_a, matrix_b, multiply(matrix_a, matrix_b))\n",
    "    )\n",
    "    print(\"Identity:  %s \\n\" % identity(5))\n",
    "    print(\"Minor of %s = %s \\n\" % (matrix_c, minor(matrix_c, 1, 2)))\n",
    "    print(\"Determinant of %s = %s \\n\" % (matrix_b, determinant(matrix_b)))"
   ]
  },
  {
   "cell_type": "code",
   "execution_count": 54,
   "metadata": {},
   "outputs": [
    {
     "name": "stdout",
     "output_type": "stream",
     "text": [
      "Add Operation, [[2, 10], [3, 9]] + [[13, 4], [7, 4]] = [[15, 14], [10, 13]] \n",
      "\n",
      "Multiply Operation, [[2, 10], [3, 9]] * [[13, 4], [7, 4]] = [[96, 48], [102, 48]] \n",
      "\n",
      "Identity:  [[1, 0, 0, 0, 0], [0, 1, 0, 0, 0], [0, 0, 1, 0, 0], [0, 0, 0, 1, 0], [0, 0, 0, 0, 1]] \n",
      "\n",
      "Minor of [[1, 12, 12, 14], [21, 21, 23, 24], [41, 31, 33, 9], [41, 41, 11, 11]] = [[1, 12, 14], [41, 31, 9], [41, 41, 11]] \n",
      "\n",
      "Determinant of [[13, 4], [7, 4]] = None \n",
      "\n"
     ]
    }
   ],
   "source": [
    "if __name__ == \"__main__\":\n",
    "    main()"
   ]
  },
  {
   "cell_type": "code",
   "execution_count": null,
   "metadata": {},
   "outputs": [],
   "source": []
  }
 ],
 "metadata": {
  "kernelspec": {
   "display_name": "Python 3",
   "language": "python",
   "name": "python3"
  },
  "language_info": {
   "codemirror_mode": {
    "name": "ipython",
    "version": 3
   },
   "file_extension": ".py",
   "mimetype": "text/x-python",
   "name": "python",
   "nbconvert_exporter": "python",
   "pygments_lexer": "ipython3",
   "version": "3.6.8"
  }
 },
 "nbformat": 4,
 "nbformat_minor": 2
}
