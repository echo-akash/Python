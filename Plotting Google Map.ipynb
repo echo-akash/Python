{
 "cells": [
  {
   "cell_type": "code",
   "execution_count": 37,
   "metadata": {},
   "outputs": [],
   "source": [
    "# import gmplot package \n",
    "import gmplot \n",
    " "
   ]
  },
  {
   "cell_type": "code",
   "execution_count": 44,
   "metadata": {},
   "outputs": [],
   "source": [
    "# GoogleMapPlotter return Map object \n",
    "# Pass the center latitude and \n",
    "# center longitude \n",
    "gmap1 = gmplot.GoogleMapPlotter(23.777176, 90.399452, 12) \n",
    "  \n",
    "# Pass the absolute path \n",
    "gmap1.draw( \"map.html\" ) \n"
   ]
  },
  {
   "cell_type": "code",
   "execution_count": 47,
   "metadata": {},
   "outputs": [],
   "source": [
    "#Scatter points on the google map and draw a line in between them\n",
    "latitude_list = [ 23.707310, 24.098379] \n",
    "longitude_list = [ 90.415482, 90.328712 ] \n",
    "  \n",
    "gmap3 = gmplot.GoogleMapPlotter(23.777176, 90.399452, 12) \n",
    "  \n",
    "# scatter method of map object  \n",
    "# scatter points on the google map \n",
    "gmap3.scatter( latitude_list, longitude_list, '# FF0000', \n",
    "                              size = 40, marker = False ) \n",
    "  \n",
    "# Plot method Draw a line in \n",
    "# between given coordinates \n",
    "gmap3.plot(latitude_list, longitude_list,  \n",
    "           'cornflowerblue', edge_width = 2.5) \n",
    "  \n",
    "gmap3.draw( \"map.html\" ) "
   ]
  },
  {
   "cell_type": "code",
   "execution_count": 50,
   "metadata": {},
   "outputs": [],
   "source": [
    "#To Show a heat map plot\n",
    "latitude_list = [ 23.707310, 24.098379, 23.711735] \n",
    "longitude_list = [ 90.415482, 90.328712 ,90.402182] \n",
    "  \n",
    "gmap4 = gmplot.GoogleMapPlotter(23.777176, 90.399452, 12)  \n",
    "  \n",
    "# heatmap plot heating Type \n",
    "# points on the Google map \n",
    "gmap4.heatmap( latitude_list, longitude_list ) \n",
    "  \n",
    "gmap4.draw( \"map.html\" ) "
   ]
  },
  {
   "cell_type": "code",
   "execution_count": 51,
   "metadata": {},
   "outputs": [],
   "source": [
    "#draw polygon on google map\n",
    "latitude_list = [ 23.707310, 24.098379, 23.711735] \n",
    "longitude_list = [ 90.415482, 90.328712 ,90.402182] \n",
    "gmap5 = gmplot.GoogleMapPlotter(23.777176, 90.399452, 12)  \n",
    "  \n",
    "gmap5.scatter( latitude_list, longitude_list, '# FF0000', \n",
    "                                size = 40, marker = False) \n",
    "  \n",
    "# polygon method Draw a polygon with \n",
    "# the help of coordinates \n",
    "gmap5.polygon(latitude_list, longitude_list, \n",
    "                   color = 'cornflowerblue') \n",
    "  \n",
    "gmap5.draw( \"map.html\" ) "
   ]
  },
  {
   "cell_type": "code",
   "execution_count": null,
   "metadata": {},
   "outputs": [],
   "source": []
  }
 ],
 "metadata": {
  "kernelspec": {
   "display_name": "Python 3",
   "language": "python",
   "name": "python3"
  },
  "language_info": {
   "codemirror_mode": {
    "name": "ipython",
    "version": 3
   },
   "file_extension": ".py",
   "mimetype": "text/x-python",
   "name": "python",
   "nbconvert_exporter": "python",
   "pygments_lexer": "ipython3",
   "version": "3.6.8"
  }
 },
 "nbformat": 4,
 "nbformat_minor": 2
}
