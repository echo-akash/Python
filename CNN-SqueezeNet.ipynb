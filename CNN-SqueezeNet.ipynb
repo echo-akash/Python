{
 "cells": [
  {
   "cell_type": "code",
   "execution_count": null,
   "metadata": {},
   "outputs": [
    {
     "name": "stderr",
     "output_type": "stream",
     "text": [
      "Using TensorFlow backend.\n"
     ]
    },
    {
     "name": "stdout",
     "output_type": "stream",
     "text": [
      "Downloading data from https://s3.amazonaws.com/img-datasets/mnist.npz\n",
      "11493376/11490434 [==============================] - 212s 18us/step\n",
      "WARNING:tensorflow:From c:\\users\\thinkpad\\appdata\\local\\programs\\python\\python36\\lib\\site-packages\\tensorflow\\python\\framework\\op_def_library.py:263: colocate_with (from tensorflow.python.framework.ops) is deprecated and will be removed in a future version.\n",
      "Instructions for updating:\n",
      "Colocations handled automatically by placer.\n"
     ]
    },
    {
     "name": "stderr",
     "output_type": "stream",
     "text": [
      "c:\\users\\thinkpad\\appdata\\local\\programs\\python\\python36\\lib\\site-packages\\ipykernel_launcher.py:45: UserWarning: Update your `Conv2D` call to the Keras 2 API: `Conv2D(64, (3, 3), input_shape=(28, 28, 1..., padding=\"valid\")`\n",
      "c:\\users\\thinkpad\\appdata\\local\\programs\\python\\python36\\lib\\site-packages\\ipykernel_launcher.py:50: UserWarning: Update your `Conv2D` call to the Keras 2 API: `Conv2D(32, (1, 1), kernel_initializer=\"glorot_uniform\")`\n"
     ]
    },
    {
     "name": "stdout",
     "output_type": "stream",
     "text": [
      "WARNING:tensorflow:From c:\\users\\thinkpad\\appdata\\local\\programs\\python\\python36\\lib\\site-packages\\keras\\backend\\tensorflow_backend.py:3445: calling dropout (from tensorflow.python.ops.nn_ops) with keep_prob is deprecated and will be removed in a future version.\n",
      "Instructions for updating:\n",
      "Please use `rate` instead of `keep_prob`. Rate should be set to `rate = 1 - keep_prob`.\n"
     ]
    },
    {
     "name": "stderr",
     "output_type": "stream",
     "text": [
      "c:\\users\\thinkpad\\appdata\\local\\programs\\python\\python36\\lib\\site-packages\\ipykernel_launcher.py:57: UserWarning: Update your `Conv2D` call to the Keras 2 API: `Conv2D(64, (3, 3), input_shape=(28, 28, 1..., padding=\"valid\")`\n",
      "c:\\users\\thinkpad\\appdata\\local\\programs\\python\\python36\\lib\\site-packages\\ipykernel_launcher.py:63: UserWarning: Update your `Conv2D` call to the Keras 2 API: `Conv2D(64, (3, 3), input_shape=(28, 28, 1..., padding=\"valid\")`\n",
      "c:\\users\\thinkpad\\appdata\\local\\programs\\python\\python36\\lib\\site-packages\\ipykernel_launcher.py:79: UserWarning: The `nb_epoch` argument in `fit` has been renamed `epochs`.\n"
     ]
    },
    {
     "name": "stdout",
     "output_type": "stream",
     "text": [
      "__________________________________________________________________________________________________\n",
      "Layer (type)                    Output Shape         Param #     Connected to                     \n",
      "==================================================================================================\n",
      "input_1 (InputLayer)            (None, 28, 28, 1)    0                                            \n",
      "__________________________________________________________________________________________________\n",
      "lambda_1 (Lambda)               (None, 1, 784)       0           input_1[0][0]                    \n",
      "__________________________________________________________________________________________________\n",
      "reshape_1 (Reshape)             (None, 28, 28, 1)    0           lambda_1[0][0]                   \n",
      "__________________________________________________________________________________________________\n",
      "conv2d_1 (Conv2D)               (None, 26, 26, 64)   640         reshape_1[0][0]                  \n",
      "__________________________________________________________________________________________________\n",
      "batch_normalization_1 (BatchNor (None, 26, 26, 64)   256         conv2d_1[0][0]                   \n",
      "__________________________________________________________________________________________________\n",
      "elu_1 (ELU)                     (None, 26, 26, 64)   0           batch_normalization_1[0][0]      \n",
      "__________________________________________________________________________________________________\n",
      "max_pooling2d_1 (MaxPooling2D)  (None, 13, 13, 64)   0           elu_1[0][0]                      \n",
      "__________________________________________________________________________________________________\n",
      "conv2d_2 (Conv2D)               (None, 13, 13, 32)   2080        max_pooling2d_1[0][0]            \n",
      "__________________________________________________________________________________________________\n",
      "batch_normalization_2 (BatchNor (None, 13, 13, 32)   128         conv2d_2[0][0]                   \n",
      "__________________________________________________________________________________________________\n",
      "elu_2 (ELU)                     (None, 13, 13, 32)   0           batch_normalization_2[0][0]      \n",
      "__________________________________________________________________________________________________\n",
      "conv2d_3 (Conv2D)               (None, 11, 11, 64)   18496       elu_2[0][0]                      \n",
      "__________________________________________________________________________________________________\n",
      "conv2d_4 (Conv2D)               (None, 11, 11, 64)   18496       elu_2[0][0]                      \n",
      "__________________________________________________________________________________________________\n",
      "elu_3 (ELU)                     (None, 11, 11, 64)   0           conv2d_3[0][0]                   \n",
      "__________________________________________________________________________________________________\n",
      "elu_4 (ELU)                     (None, 11, 11, 64)   0           conv2d_4[0][0]                   \n",
      "__________________________________________________________________________________________________\n",
      "concatenate_1 (Concatenate)     (None, 11, 11, 128)  0           elu_3[0][0]                      \n",
      "                                                                 elu_4[0][0]                      \n",
      "__________________________________________________________________________________________________\n",
      "dropout_1 (Dropout)             (None, 11, 11, 128)  0           concatenate_1[0][0]              \n",
      "__________________________________________________________________________________________________\n",
      "global_average_pooling2d_1 (Glo (None, 128)          0           dropout_1[0][0]                  \n",
      "__________________________________________________________________________________________________\n",
      "dense_1 (Dense)                 (None, 10)           1290        global_average_pooling2d_1[0][0] \n",
      "__________________________________________________________________________________________________\n",
      "activation_1 (Activation)       (None, 10)           0           dense_1[0][0]                    \n",
      "==================================================================================================\n",
      "Total params: 41,386\n",
      "Trainable params: 41,194\n",
      "Non-trainable params: 192\n",
      "__________________________________________________________________________________________________\n",
      "WARNING:tensorflow:From c:\\users\\thinkpad\\appdata\\local\\programs\\python\\python36\\lib\\site-packages\\tensorflow\\python\\ops\\math_ops.py:3066: to_int32 (from tensorflow.python.ops.math_ops) is deprecated and will be removed in a future version.\n",
      "Instructions for updating:\n",
      "Use tf.cast instead.\n",
      "Epoch 1/15\n",
      " 9780/60000 [===>..........................] - ETA: 10:39 - loss: 1.3231 - acc: 0.5388"
     ]
    }
   ],
   "source": [
    "#Squeeze Net, a simplified version of AlexNet\n",
    "#Run the code to complete all the epoch to get the final accuracy\n",
    "import numpy as np\n",
    "from keras.layers import Input, Dense, Lambda\n",
    "from keras.models import Model\n",
    "from keras import backend as K\n",
    "from keras import objectives\n",
    "from keras.datasets import mnist\n",
    "from keras.layers.core import Reshape\n",
    "from keras.models import Sequential\n",
    "from keras.layers import Dense, Dropout, Activation, Flatten, Concatenate\n",
    "from keras.layers import Convolution2D, MaxPooling2D\n",
    "from keras.layers.convolutional import Conv2D, MaxPooling2D, ZeroPadding2D, UpSampling2D\n",
    "from keras.utils import np_utils\n",
    "from keras.layers.normalization import BatchNormalization\n",
    "from keras.optimizers import SGD\n",
    "from keras.layers.advanced_activations import ELU\n",
    "from keras.layers.pooling import GlobalAveragePooling2D\n",
    "import pandas as pd\n",
    "import matplotlib.pyplot as plt\n",
    "\n",
    "(x_train, y_train), (x_test, y_test) = mnist.load_data()\n",
    "\n",
    "x_train = x_train.astype('float32') / 255.\n",
    "x_test = x_test.astype('float32') / 255.\n",
    "x_train = x_train.reshape((len(x_train), np.prod(x_train.shape[1:])))\n",
    "x_test = x_test.reshape((len(x_test), np.prod(x_test.shape[1:])))\n",
    "\n",
    "x_train_CNN=x_train.reshape(60000,28,28,1)\n",
    "\n",
    "y_train2=pd.get_dummies(y_train)\n",
    "\n",
    "epochs=3\n",
    "learning_rate = 0.07\n",
    "decay_rate = 5e-5\n",
    "momentum = 0.6\n",
    "\n",
    "sgd = SGD(lr=learning_rate,momentum=momentum, decay=decay_rate, nesterov=False)\n",
    "\n",
    "input_shape=(28,28,1)\n",
    "\n",
    "input_img = Input(batch_shape=(None, 28,28,1))\n",
    "squeeze=Lambda(lambda x: x ** 2,input_shape=(784,),output_shape=(1,784))(input_img)\n",
    "squeeze=Reshape((28,28,1))(squeeze)\n",
    "squeeze=Conv2D(64, 3,3,\n",
    "                          border_mode='valid',\n",
    "                        input_shape=input_shape)(squeeze)\n",
    "squeeze=BatchNormalization()(squeeze)\n",
    "squeeze=ELU(alpha=1.0)(squeeze)\n",
    "squeeze=MaxPooling2D(pool_size=(2,2))(squeeze)\n",
    "squeeze=Conv2D(32, 1, 1,\n",
    "                            init='glorot_uniform')(squeeze)\n",
    "squeeze=BatchNormalization()(squeeze)\n",
    "squeeze=ELU(alpha=1.0)(squeeze)\n",
    "\n",
    "squeeze_left=squeeze\n",
    "squeeze_left=Conv2D(64, 3,3,\n",
    "                          border_mode='valid',\n",
    "                        input_shape=input_shape)(squeeze_left)\n",
    "squeeze_left=ELU(alpha=1.0)(squeeze_left)\n",
    "\n",
    "squeeze_right=squeeze\n",
    "squeeze_right=Conv2D(64, 3,3,\n",
    "                          border_mode='valid',\n",
    "                        input_shape=input_shape)(squeeze_right)\n",
    "squeeze_right=ELU(alpha=1.0)(squeeze_right)\n",
    "\n",
    "squeeze0=Concatenate()([squeeze_left,squeeze_right])\n",
    "squeeze0=Dropout(0.2)(squeeze0)\n",
    "squeeze0=GlobalAveragePooling2D()(squeeze0)\n",
    "squeeze0=Dense(10)(squeeze0)\n",
    "squeeze0=Activation('sigmoid')(squeeze0)\n",
    "\n",
    "model = Model(inputs = input_img, outputs = squeeze0)\n",
    "\n",
    "model.compile(loss='categorical_crossentropy', optimizer=sgd,metrics = ['accuracy'])\n",
    "model.summary()\n",
    "\n",
    "model.fit(x_train_CNN,np.array(y_train2),\n",
    "                nb_epoch=15,\n",
    "                batch_size=30,verbose=1)\n",
    "\n",
    "predictions=np.argmax(model.predict(x_train_CNN,verbose=1),axis=1)"
   ]
  },
  {
   "cell_type": "code",
   "execution_count": null,
   "metadata": {},
   "outputs": [],
   "source": []
  }
 ],
 "metadata": {
  "kernelspec": {
   "display_name": "Python 3",
   "language": "python",
   "name": "python3"
  },
  "language_info": {
   "codemirror_mode": {
    "name": "ipython",
    "version": 3
   },
   "file_extension": ".py",
   "mimetype": "text/x-python",
   "name": "python",
   "nbconvert_exporter": "python",
   "pygments_lexer": "ipython3",
   "version": "3.6.8"
  }
 },
 "nbformat": 4,
 "nbformat_minor": 2
}

