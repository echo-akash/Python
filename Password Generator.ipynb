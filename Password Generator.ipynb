{
 "cells": [
  {
   "cell_type": "code",
   "execution_count": 11,
   "metadata": {},
   "outputs": [],
   "source": [
    "from random import choice, shuffle\n",
    "from string import ascii_letters, digits, punctuation"
   ]
  },
  {
   "cell_type": "code",
   "execution_count": 12,
   "metadata": {},
   "outputs": [],
   "source": [
    "def password_generator(length=8):\n",
    "    chars = tuple(ascii_letters) + tuple(digits) + tuple(punctuation)\n",
    "    return \"\".join(choice(chars) for x in range(length))"
   ]
  },
  {
   "cell_type": "code",
   "execution_count": 13,
   "metadata": {},
   "outputs": [],
   "source": [
    "def main():\n",
    "    length = int(input(\"Please indicate the max length of your password: \").strip())\n",
    "    print(\"Password generated:\", password_generator(length))\n"
   ]
  },
  {
   "cell_type": "code",
   "execution_count": 14,
   "metadata": {},
   "outputs": [
    {
     "name": "stdout",
     "output_type": "stream",
     "text": [
      "Please indicate the max length of your password: 100\n",
      "Password generated: 5G&RLs|Vg9JoJ^[1m;&@l@4sL`hEWDj/S_f4M'cA,Bl>^G*=)dQH<cr]D0=1,*/K7?R6*}:5TX;0MI54bxWv!d9V|LLkFCNBhxf*\n"
     ]
    }
   ],
   "source": [
    "if __name__ == \"__main__\":\n",
    "    main()"
   ]
  },
  {
   "cell_type": "code",
   "execution_count": null,
   "metadata": {},
   "outputs": [],
   "source": []
  }
 ],
 "metadata": {
  "kernelspec": {
   "display_name": "Python 3",
   "language": "python",
   "name": "python3"
  },
  "language_info": {
   "codemirror_mode": {
    "name": "ipython",
    "version": 3
   },
   "file_extension": ".py",
   "mimetype": "text/x-python",
   "name": "python",
   "nbconvert_exporter": "python",
   "pygments_lexer": "ipython3",
   "version": "3.6.8"
  }
 },
 "nbformat": 4,
 "nbformat_minor": 2
}
